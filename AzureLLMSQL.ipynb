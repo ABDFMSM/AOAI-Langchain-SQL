{
 "cells": [
  {
   "cell_type": "code",
   "execution_count": 2,
   "id": "0fa5484f-da01-4eb2-8450-4c8df4b0a63a",
   "metadata": {},
   "outputs": [],
   "source": [
    "# We start by importing all the necessary librairies"
   ]
  },
  {
   "cell_type": "code",
   "execution_count": 1,
   "id": "7040f939-8641-458b-8110-7b33ad80e0e7",
   "metadata": {},
   "outputs": [],
   "source": [
    "import pandas as pd\n",
    "import sys \n",
    "from dotenv import load_dotenv\n",
    "import os\n",
    "from sqlalchemy import create_engine\n",
    "from langchain.sql_database import SQLDatabase\n",
    "from langchain_openai.chat_models import AzureChatOpenAI\n",
    "from langchain_community.agent_toolkits import SQLDatabaseToolkit\n",
    "from langchain.agents import create_openai_tools_agent\n",
    "from langchain.memory import ConversationBufferWindowMemory\n",
    "from langchain.agents.agent import AgentExecutor\n",
    "from langchain_core.messages import SystemMessage\n",
    "from langchain_core.prompts.chat import ChatPromptTemplate, HumanMessagePromptTemplate, MessagesPlaceholder"
   ]
  },
  {
   "cell_type": "code",
   "execution_count": null,
   "id": "2af4a43b-edd5-4406-b00a-314eaa008cc1",
   "metadata": {},
   "outputs": [],
   "source": [
    "# I created a class called SQLLoader that helps to load the csv file contents to the sql database. \n",
    "# SQLLoader initiailly creats a connection to the SQL database then based on the csv file it creates a table and insert the values to the table.\n",
    "# If you only need to read from the SQL database it will use read_db method that will return a SQLDatabase object for langchain object. "
   ]
  },
  {
   "cell_type": "code",
   "execution_count": null,
   "id": "480fe9af-b22c-4130-ab5e-1612d79abcf3",
   "metadata": {},
   "outputs": [],
   "source": [
    "load_dotenv()\n",
    "\n",
    "class SQLLoader:    \n",
    "    def __init__(self, df=None) -> None:    \n",
    "        self.engine = self.create_engine()  \n",
    "        self.df = df  \n",
    "  \n",
    "    def create_engine(self) -> Engine:  \n",
    "        username = os.getenv('SQL_USERNAME')  \n",
    "        password = os.getenv('SQL_PASSWORD')  \n",
    "        server = f\"tcp:{os.getenv('SQL_ENDPOINT')}\"\n",
    "        database = os.getenv('SQL_DATABASE')  \n",
    "        driver = \"ODBC Driver 18 for SQL Server\"  \n",
    "        connection_string = f\"mssql+pyodbc:///?odbc_connect=DRIVER={driver};SERVER={server};DATABASE={database};UID={username};PWD={password};Encrypt=yes;TrustServerCertificate=no;Connection Timeout=30;\"  \n",
    "        engine = create_engine(connection_string)  \n",
    "        return engine   \n",
    "\n",
    "    def create_table(self, table_name: str) -> None:  \n",
    "        # Use SQLAlchemy to generate the table schema from the dataframe  \n",
    "        self.df.to_sql(table_name, self.engine, if_exists='replace', index=False)  \n",
    "        print(f\"Table {table_name} has been created in the database.\")\n",
    "      \n",
    "    def insert_data(self, table_name: str) -> None:  \n",
    "        # Use pandas to_sql method for inserting the data  \n",
    "        self.df.to_sql(table_name, self.engine, if_exists='append', index=False)  \n",
    "        print(f\"Data has been inserted into {table_name} table.\")\n",
    "\n",
    "    def read_db(self) -> SQLDatabase:\n",
    "        return SQLDatabase(self.engine)"
   ]
  },
  {
   "cell_type": "code",
   "execution_count": null,
   "id": "5b583fb4-9a19-4cd5-93b7-dc9b6ff58bd0",
   "metadata": {},
   "outputs": [],
   "source": [
    "# Initially, we check if there is a csv file passed as an argument so that we could load it to the SQL Database. "
   ]
  },
  {
   "cell_type": "code",
   "execution_count": null,
   "id": "d9f2533b-a9cb-43cf-a20a-d9cfe111e633",
   "metadata": {},
   "outputs": [],
   "source": [
    "# Check if there is a csv file passed as an argument. \n",
    "# If there is a file, it will be uploaded to the Azure SQL database. \n",
    "if len(sys.argv[:]) > 1:\n",
    "    df = pd.read_csv(sys.argv[1]).fillna(value=0)\n",
    "    loader = SQLLoader(df)  \n",
    "    table_name = input(\"What would you like to call the table?\\n\")\n",
    "    loader.create_table(table_name)  \n",
    "    loader.insert_data(table_name)\n",
    "else:\n",
    "    loader = SQLLoader() "
   ]
  },
  {
   "cell_type": "code",
   "execution_count": null,
   "id": "53d964d2-d612-42dd-8c7a-b48cbe25c621",
   "metadata": {},
   "outputs": [],
   "source": [
    "# Afterweards, we can configure the SQL toolkit, LLM, and memory to create our agent. "
   ]
  },
  {
   "cell_type": "code",
   "execution_count": null,
   "id": "52e43ee0-22a6-41db-984b-f7208a5f9cc6",
   "metadata": {},
   "outputs": [],
   "source": [
    "# Configuring the SQL toolkit: \n",
    "sql_db = loader.read_db()\n",
    "llm = AzureChatOpenAI(deployment_name=os.getenv(\"Completion_model\"), temperature=0)\n",
    "toolkit = SQLDatabaseToolkit(db=sql_db, llm=llm) \n",
    "context = toolkit.get_context()\n",
    "tools = toolkit.get_tools()\n",
    "\n",
    "prompt = ChatPromptTemplate.from_messages(\n",
    "    [\n",
    "        SystemMessage(\n",
    "            content=\"\"\"You are an AI assistance who can access an Azure SQL Database to get answers to customer's questions. \n",
    "            You mainly have Titanic and Books table that you can check the table schema when you don't get information that will help you to answer the question.\n",
    "            Always return the SQL command that you used to perform your query. \n",
    "            \"\"\"\n",
    "        ),  # The persistent system prompt\n",
    "        MessagesPlaceholder(\n",
    "            variable_name=\"chat_history\"\n",
    "        ),  # Where the memory will be stored.\n",
    "        MessagesPlaceholder(\n",
    "            variable_name='agent_scratchpad'\n",
    "        ),  # where tools are loaded for intermediate steps.\n",
    "        HumanMessagePromptTemplate.from_template(\n",
    "            \"{input}\"\n",
    "        ),  # Where the human input will injected\n",
    "    ]\n",
    ")\n",
    "\n",
    "prompt = prompt.partial(**context)\n",
    "memory = ConversationBufferWindowMemory(memory_key=\"chat_history\", return_messages=True, k= 8)"
   ]
  },
  {
   "cell_type": "code",
   "execution_count": null,
   "id": "2907ab39-077e-4c43-b658-81dd16ca1628",
   "metadata": {},
   "outputs": [],
   "source": [
    "#Now we can create our chatbot agent as follows:"
   ]
  },
  {
   "cell_type": "code",
   "execution_count": null,
   "id": "207aff56-8cbd-4682-bc3f-61247ae0bae3",
   "metadata": {},
   "outputs": [],
   "source": [
    "agent = create_openai_tools_agent(llm, tools, prompt)\n",
    "\n",
    "agent_executor = AgentExecutor(\n",
    "    agent=agent,\n",
    "    tools=toolkit.get_tools(),\n",
    "    verbose=True,\n",
    "    memory=memory, \n",
    "    max_iterations= 8\n",
    ")"
   ]
  },
  {
   "cell_type": "code",
   "execution_count": null,
   "id": "86a34aae-84b3-486e-815b-efa4901c86d6",
   "metadata": {},
   "outputs": [],
   "source": [
    "#Finally, for own main function that will hold the conversation:"
   ]
  },
  {
   "cell_type": "code",
   "execution_count": null,
   "id": "b5680b8a-256d-4802-91c2-928b135e501e",
   "metadata": {},
   "outputs": [],
   "source": [
    "def main():\n",
    "    question = input(\"What do you like to ask?\\n\")\n",
    "    while \"exit\" not in question.lower():  \n",
    "        answer = agent_executor.invoke({\"input\": question})\n",
    "        print(answer['output'])  \n",
    "        question = input(\"\\nDo you have other queries you would like to know about? if not type exit to end the chat.\\n\")  \n",
    "\n",
    "if __name__ == \"__main__\":\n",
    "    main()"
   ]
  }
 ],
 "metadata": {
  "kernelspec": {
   "display_name": "Python 3 (ipykernel)",
   "language": "python",
   "name": "python3"
  },
  "language_info": {
   "codemirror_mode": {
    "name": "ipython",
    "version": 3
   },
   "file_extension": ".py",
   "mimetype": "text/x-python",
   "name": "python",
   "nbconvert_exporter": "python",
   "pygments_lexer": "ipython3",
   "version": "3.11.3"
  }
 },
 "nbformat": 4,
 "nbformat_minor": 5
}
